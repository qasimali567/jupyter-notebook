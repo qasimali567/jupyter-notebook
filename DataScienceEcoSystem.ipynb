{
 "cells": [
  {
   "cell_type": "raw",
   "id": "372fa67e-a9fa-4190-bc68-3149b1ce2453",
   "metadata": {},
   "source": [
    "# Data Scinence Tools and Ecosystem"
   ]
  },
  {
   "cell_type": "code",
   "execution_count": null,
   "id": "237ddaaf-21c6-4491-aca4-f55bedf6db39",
   "metadata": {},
   "outputs": [],
   "source": [
    "introduction\n",
    "In this notebook, Data Science Tools and Ecosystem are summarized."
   ]
  },
  {
   "cell_type": "code",
   "execution_count": null,
   "id": "7c8e6244-8f17-4c88-98e9-6bb55822d0db",
   "metadata": {},
   "outputs": [],
   "source": [
    "Some of the popular languages that Data Scientists use are\n",
    "1 python\n",
    "2 R\n",
    "3 SQL\n",
    "4 ML"
   ]
  },
  {
   "cell_type": "markdown",
   "id": "6ef48162-50b0-4f8a-9cb3-9c626aef2aae",
   "metadata": {},
   "source": [
    "Some of the commonly used libraries used by Data Scientists include:\n",
    "1:pandas\n",
    "2:numpy\n",
    "3:scikit.learn\n",
    "4:matplotlib\n"
   ]
  },
  {
   "cell_type": "markdown",
   "id": "b5cec45c-c346-4470-8e71-56db02d665f5",
   "metadata": {},
   "source": [
    "| ID  | Tool Name      | Description                                           | Primary Use            |\n",
    "|-----|----------------|-------------------------------------------------------|------------------------|\n",
    "| 1   | Jupyter        | An open-source web application for creating and sharing documents with live code. | Interactive coding, data analysis, and visualization. |\n",
    "| 2   | VS Code        | A free code editor by Microsoft with rich extensions and debugging support. | Code editing, debugging, and version control.         |\n",
    "| 3   | RStudio        | An integrated development environment for R programming. | Statistical computing and graphics using R.          |\n"
   ]
  },
  {
   "cell_type": "markdown",
   "id": "8102efb2-d0f0-4a20-9f71-06afa2cea526",
   "metadata": {},
   "source": [
    "### Below are a few examples of evaluating arithmetic expressions in Python."
   ]
  },
  {
   "cell_type": "code",
   "execution_count": 14,
   "id": "78cdcab3-e826-48de-a783-58c8785d6481",
   "metadata": {},
   "outputs": [
    {
     "data": {
      "text/plain": [
       "30"
      ]
     },
     "execution_count": 14,
     "metadata": {},
     "output_type": "execute_result"
    }
   ],
   "source": [
    "# below mentioned expression first multiply then add\n",
    "(5*5)+5"
   ]
  },
  {
   "cell_type": "code",
   "execution_count": 13,
   "id": "b62743ce-6066-47f6-b25a-d98a42643717",
   "metadata": {},
   "outputs": [
    {
     "data": {
      "text/plain": [
       "3.3333333333333335"
      ]
     },
     "execution_count": 13,
     "metadata": {},
     "output_type": "execute_result"
    }
   ],
   "source": [
    "#Insert a comment line before the expression to explain the operation e.g.  This will convert 200 minutes to hours by diving by 60\n",
    "200/60"
   ]
  },
  {
   "cell_type": "markdown",
   "id": "cc40b477-7e64-4e8b-9b26-8d18bacf783e",
   "metadata": {},
   "source": [
    "__objectives__\n",
    "* python \n",
    "* R\n",
    "* SQL\n",
    "* ML\n",
    "* Deep learning\n"
   ]
  },
  {
   "cell_type": "markdown",
   "id": "e5d55558-e10d-448f-8a16-5ba7b6ef51e5",
   "metadata": {},
   "source": [
    "## Author\n",
    "   Qasim"
   ]
  },
  {
   "cell_type": "code",
   "execution_count": null,
   "id": "aa10ed77-7f3a-432f-a684-daf2364431ef",
   "metadata": {},
   "outputs": [],
   "source": []
  }
 ],
 "metadata": {
  "kernelspec": {
   "display_name": "Python 3 (ipykernel)",
   "language": "python",
   "name": "python3"
  },
  "language_info": {
   "codemirror_mode": {
    "name": "ipython",
    "version": 3
   },
   "file_extension": ".py",
   "mimetype": "text/x-python",
   "name": "python",
   "nbconvert_exporter": "python",
   "pygments_lexer": "ipython3",
   "version": "3.12.8"
  }
 },
 "nbformat": 4,
 "nbformat_minor": 5
}
